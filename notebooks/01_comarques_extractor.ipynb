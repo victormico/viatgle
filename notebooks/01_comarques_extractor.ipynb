{
 "cells": [
  {
   "cell_type": "code",
   "execution_count": 1,
   "metadata": {},
   "outputs": [],
   "source": [
    "import os\n",
    "from utils import extract_polygons_from_html, extract_paths_from_html, generate_svg_from_polygon, generate_svg_from_path"
   ]
  },
  {
   "cell_type": "code",
   "execution_count": 3,
   "metadata": {},
   "outputs": [],
   "source": [
    "# load index.html and extract each polygon and save it as a svg file\n",
    "cwd = os.getcwd()\n",
    "parent = os.path.dirname(cwd)\n",
    "\n",
    "html_file = os.path.join(parent, 'docs', 'sources', 'binariem_mapa_ppcc', 'index.html')\n",
    "svg_path = os.path.join(parent, 'svg')\n",
    "\n",
    "# create folder if it does not exist\n",
    "if not os.path.exists(svg_path):\n",
    "    os.makedirs(svg_path)\n",
    "\n",
    "catno_path = os.path.join(svg_path, 'catno')\n",
    "if not os.path.exists(catno_path):\n",
    "    os.makedirs(catno_path)\n",
    "\n",
    "# empty catno folder\n",
    "for file in os.listdir(catno_path):\n",
    "    os.remove(os.path.join(catno_path, file))\n",
    "\n",
    "polygons = extract_polygons_from_html(html_file)\n",
    "paths = extract_paths_from_html(html_file)\n",
    "\n",
    "for polygon in polygons:\n",
    "    generate_svg_from_polygon(polygon, svg_path)\n",
    "\n",
    "for path in paths:\n",
    "    generate_svg_from_path(path, svg_path)"
   ]
  }
 ],
 "metadata": {
  "kernelspec": {
   "display_name": "Python 3",
   "language": "python",
   "name": "python3"
  },
  "language_info": {
   "codemirror_mode": {
    "name": "ipython",
    "version": 3
   },
   "file_extension": ".py",
   "mimetype": "text/x-python",
   "name": "python",
   "nbconvert_exporter": "python",
   "pygments_lexer": "ipython3",
   "version": "3.12.1"
  }
 },
 "nbformat": 4,
 "nbformat_minor": 2
}
