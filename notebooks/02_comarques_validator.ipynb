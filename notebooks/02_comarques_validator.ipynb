{
 "cells": [
  {
   "cell_type": "code",
   "execution_count": 2,
   "metadata": {},
   "outputs": [],
   "source": [
    "import json"
   ]
  },
  {
   "cell_type": "code",
   "execution_count": 3,
   "metadata": {},
   "outputs": [
    {
     "name": "stdout",
     "output_type": "stream",
     "text": [
      "All connections are valid!\n"
     ]
    }
   ],
   "source": [
    "def validate_connections(data):\n",
    "    \"\"\"\n",
    "    Validates that all the comarca connections in the input data are symmetric.\n",
    "    That is, if comarca A is connected to comarca B, then comarca B must be\n",
    "    connected to comarca A.\n",
    "    \"\"\"\n",
    "    errors = []\n",
    "\n",
    "    for comarca, neighbors in data.items():\n",
    "        for neighbor in neighbors:\n",
    "            if comarca not in data.get(neighbor, []):\n",
    "                errors.append(\n",
    "                    f\"Connection missing: '{neighbor}' should include '{comarca}'\"\n",
    "                )\n",
    "\n",
    "    return errors\n",
    "\n",
    "\n",
    "#read the data from the file\n",
    "with open(\"comarques_limitrofes.json\") as f:\n",
    "    comarques_data = json.load(f)\n",
    "\n",
    "# Validate the connections\n",
    "errors = validate_connections(comarques_data)\n",
    "\n",
    "if errors:\n",
    "    print(\"Errors found:\")\n",
    "    for error in errors:\n",
    "        print(error)\n",
    "else:\n",
    "    print(\"All connections are valid!\")\n"
   ]
  },
  {
   "cell_type": "code",
   "execution_count": 4,
   "metadata": {},
   "outputs": [],
   "source": [
    "from collections import deque\n",
    "\n",
    "def find_shortest_path(start, end, graph):\n",
    "    \"\"\"\n",
    "    Troba el camí més curt entre dues comarques utilitzant una cerca en amplada (BFS).\n",
    "\n",
    "    :param start: Comarca inicial (str)\n",
    "    :param end: Comarca final (str)\n",
    "    :param graph: Diccionari de comarques i les seves adjacents\n",
    "    :return: Llista amb el camí més curt, o None si no hi ha cap camí\n",
    "    \"\"\"\n",
    "    queue = deque([[start]])  # Pila de camins possibles\n",
    "    visited = set()           # Conjunt de comarques visitades\n",
    "\n",
    "    while queue:\n",
    "        # Obtenim el primer camí de la cua\n",
    "        path = queue.popleft()\n",
    "        node = path[-1]\n",
    "\n",
    "        # Si hem arribat a la comarca final, retornem el camí\n",
    "        if node == end:\n",
    "            return path\n",
    "\n",
    "        # Si no hem visitat aquest node, explorem els seus veïns\n",
    "        if node not in visited:\n",
    "            visited.add(node)\n",
    "\n",
    "            # Afegim camins nous a la cua\n",
    "            for neighbor in graph.get(node, []):\n",
    "                new_path = list(path)  # Fem una còpia del camí actual\n",
    "                new_path.append(neighbor)\n",
    "                queue.append(new_path)\n",
    "\n",
    "    return None  # Retorna None si no hi ha cap camí\n"
   ]
  },
  {
   "cell_type": "code",
   "execution_count": 5,
   "metadata": {},
   "outputs": [
    {
     "name": "stdout",
     "output_type": "stream",
     "text": [
      "['ripolles', 'osona', 'bages', 'anoia', 'alt_camp', 'baix_camp']\n"
     ]
    }
   ],
   "source": [
    "# Provar la funció\n",
    "result = find_shortest_path(\"ripolles\", \"baix_camp\", comarques_data)\n",
    "print(result)  \n"
   ]
  }
 ],
 "metadata": {
  "kernelspec": {
   "display_name": "Python 3",
   "language": "python",
   "name": "python3"
  },
  "language_info": {
   "codemirror_mode": {
    "name": "ipython",
    "version": 3
   },
   "file_extension": ".py",
   "mimetype": "text/x-python",
   "name": "python",
   "nbconvert_exporter": "python",
   "pygments_lexer": "ipython3",
   "version": "3.12.1"
  }
 },
 "nbformat": 4,
 "nbformat_minor": 2
}
