{
 "cells": [
  {
   "cell_type": "code",
   "execution_count": 1,
   "metadata": {},
   "outputs": [],
   "source": [
    "import json\n",
    "from utils import validate_connections, find_shortest_path"
   ]
  },
  {
   "cell_type": "code",
   "execution_count": 2,
   "metadata": {},
   "outputs": [
    {
     "name": "stdout",
     "output_type": "stream",
     "text": [
      "All connections are valid!\n"
     ]
    }
   ],
   "source": [
    "#read the data from the file\n",
    "with open(\"comarques_limitrofes.json\") as f:\n",
    "    comarques_data = json.load(f)\n",
    "\n",
    "# Validate the connections\n",
    "errors = validate_connections(comarques_data)\n",
    "\n",
    "if errors:\n",
    "    print(\"Errors found:\")\n",
    "    for error in errors:\n",
    "        print(error)\n",
    "else:\n",
    "    print(\"All connections are valid!\")\n"
   ]
  },
  {
   "cell_type": "code",
   "execution_count": 3,
   "metadata": {},
   "outputs": [
    {
     "name": "stdout",
     "output_type": "stream",
     "text": [
      "['ripolles', 'osona', 'bages', 'anoia', 'alt_camp', 'baix_camp']\n"
     ]
    }
   ],
   "source": [
    "# Provar la funció\n",
    "result = find_shortest_path(\"ripolles\", \"baix_camp\", comarques_data)\n",
    "print(result)  \n"
   ]
  }
 ],
 "metadata": {
  "kernelspec": {
   "display_name": "Python 3",
   "language": "python",
   "name": "python3"
  },
  "language_info": {
   "codemirror_mode": {
    "name": "ipython",
    "version": 3
   },
   "file_extension": ".py",
   "mimetype": "text/x-python",
   "name": "python",
   "nbconvert_exporter": "python",
   "pygments_lexer": "ipython3",
   "version": "3.12.1"
  }
 },
 "nbformat": 4,
 "nbformat_minor": 2
}
