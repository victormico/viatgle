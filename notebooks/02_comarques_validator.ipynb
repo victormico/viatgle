{
 "cells": [
  {
   "cell_type": "code",
   "execution_count": 1,
   "metadata": {},
   "outputs": [],
   "source": [
    "import json\n",
    "from utils import validate_connections, find_shortest_paths"
   ]
  },
  {
   "cell_type": "code",
   "execution_count": 2,
   "metadata": {},
   "outputs": [
    {
     "name": "stdout",
     "output_type": "stream",
     "text": [
      "All connections are valid!\n"
     ]
    }
   ],
   "source": [
    "#read the data from the file\n",
    "with open(\"comarques_limitrofes.json\") as f:\n",
    "    comarques_data = json.load(f)\n",
    "\n",
    "# Validate the connections\n",
    "errors = validate_connections(comarques_data)\n",
    "\n",
    "if errors:\n",
    "    print(\"Errors found:\")\n",
    "    for error in errors:\n",
    "        print(error)\n",
    "else:\n",
    "    print(\"All connections are valid!\")\n"
   ]
  },
  {
   "cell_type": "code",
   "execution_count": 3,
   "metadata": {},
   "outputs": [
    {
     "name": "stdout",
     "output_type": "stream",
     "text": [
      "[['ports', 'matarranya', 'segria', 'noguera', 'solsones', 'bergueda', 'osona', 'garrotxa', 'alt_emporda'], ['ports', 'matarranya', 'segria', 'noguera', 'solsones', 'bergueda', 'ripolles', 'garrotxa', 'alt_emporda'], ['ports', 'matarranya', 'segria', 'noguera', 'solsones', 'bergueda', 'ripolles', 'vallespir', 'alt_emporda'], ['ports', 'matarranya', 'segria', 'noguera', 'solsones', 'bages', 'osona', 'garrotxa', 'alt_emporda'], ['ports', 'matarranya', 'segria', 'noguera', 'alt_urgell', 'cerdanya', 'ripolles', 'garrotxa', 'alt_emporda'], ['ports', 'matarranya', 'segria', 'noguera', 'alt_urgell', 'cerdanya', 'ripolles', 'vallespir', 'alt_emporda'], ['ports', 'matarranya', 'segria', 'noguera', 'alt_urgell', 'bergueda', 'osona', 'garrotxa', 'alt_emporda'], ['ports', 'matarranya', 'segria', 'noguera', 'alt_urgell', 'bergueda', 'ripolles', 'garrotxa', 'alt_emporda'], ['ports', 'matarranya', 'segria', 'noguera', 'alt_urgell', 'bergueda', 'ripolles', 'vallespir', 'alt_emporda']]\n"
     ]
    }
   ],
   "source": [
    "# Provar la funció\n",
    "results = find_shortest_paths(\"ports\", \"alt_emporda\", comarques_data)\n",
    "print(results)  \n"
   ]
  }
 ],
 "metadata": {
  "kernelspec": {
   "display_name": ".venv",
   "language": "python",
   "name": "python3"
  },
  "language_info": {
   "codemirror_mode": {
    "name": "ipython",
    "version": 3
   },
   "file_extension": ".py",
   "mimetype": "text/x-python",
   "name": "python",
   "nbconvert_exporter": "python",
   "pygments_lexer": "ipython3",
   "version": "3.12.0"
  }
 },
 "nbformat": 4,
 "nbformat_minor": 2
}
