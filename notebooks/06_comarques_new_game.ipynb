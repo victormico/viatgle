{
 "cells": [
  {
   "cell_type": "code",
   "execution_count": 1,
   "metadata": {},
   "outputs": [],
   "source": [
    "import json\n",
    "import os"
   ]
  },
  {
   "cell_type": "code",
   "execution_count": 2,
   "metadata": {},
   "outputs": [],
   "source": [
    "cwd = os.getcwd()\n",
    "parent = os.path.dirname(cwd)\n",
    "src_path = os.path.join(parent, 'src')\n",
    "game_info_file = os.path.join(src_path, 'games', 'game.json')"
   ]
  },
  {
   "cell_type": "code",
   "execution_count": 3,
   "metadata": {},
   "outputs": [],
   "source": [
    "#read the data from the file\n",
    "with open(\"comarques_limitrofes.json\") as f:\n",
    "    comarques_adjacents = json.load(f)"
   ]
  },
  {
   "cell_type": "code",
   "execution_count": 4,
   "metadata": {},
   "outputs": [
    {
     "name": "stdout",
     "output_type": "stream",
     "text": [
      "['alta_cerdanya', 'ripolles', 'bergueda', 'bages', 'anoia', 'alt_camp']\n",
      "['conflent', 'ripolles', 'bergueda', 'bages', 'anoia', 'alt_camp']\n",
      "['alta_cerdanya', 'cerdanya', 'bergueda', 'bages', 'anoia', 'alt_camp']\n",
      "['alta_cerdanya', 'ripolles', 'osona', 'bages', 'anoia', 'alt_camp']\n",
      "['conflent', 'ripolles', 'osona', 'bages', 'anoia', 'alt_camp']\n",
      "['alta_cerdanya', 'ripolles', 'bergueda', 'solsones', 'anoia', 'alt_camp']\n",
      "['conflent', 'ripolles', 'bergueda', 'solsones', 'anoia', 'alt_camp']\n",
      "['alta_cerdanya', 'cerdanya', 'bergueda', 'solsones', 'anoia', 'alt_camp']\n",
      "['alta_cerdanya', 'cerdanya', 'alt_urgell', 'solsones', 'anoia', 'alt_camp']\n",
      "['alta_cerdanya', 'andorra', 'alt_urgell', 'solsones', 'anoia', 'alt_camp']\n"
     ]
    }
   ],
   "source": [
    "#read the data from the file\n",
    "with open(\"all_shortest_paths.json\") as f:\n",
    "    all_shortest_paths = json.load(f)\n",
    "\n",
    "game = {}\n",
    "\n",
    "game[\"start\"] = \"capcir\"\n",
    "game[\"end\"] = \"tarragones\"\n",
    "game[\"shortests_paths\"] = all_shortest_paths[game[\"start\"]][game[\"end\"]]\n",
    "\n",
    "\n",
    "\n",
    "for path in game[\"shortests_paths\"]:\n",
    "    path.remove(game[\"start\"])\n",
    "    path.remove(game[\"end\"])\n",
    "    print(path)\n",
    "\n",
    "# save game to a dict file\n",
    "with open(game_info_file, \"w\") as f:\n",
    "    json.dump(game, f, indent=4)"
   ]
  }
 ],
 "metadata": {
  "kernelspec": {
   "display_name": ".venv",
   "language": "python",
   "name": "python3"
  },
  "language_info": {
   "codemirror_mode": {
    "name": "ipython",
    "version": 3
   },
   "file_extension": ".py",
   "mimetype": "text/x-python",
   "name": "python",
   "nbconvert_exporter": "python",
   "pygments_lexer": "ipython3",
   "version": "3.12.0"
  }
 },
 "nbformat": 4,
 "nbformat_minor": 2
}
