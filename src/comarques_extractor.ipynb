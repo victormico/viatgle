{
 "cells": [
  {
   "cell_type": "code",
   "execution_count": 1,
   "metadata": {},
   "outputs": [],
   "source": [
    "from bs4 import BeautifulSoup"
   ]
  },
  {
   "cell_type": "code",
   "execution_count": 2,
   "metadata": {},
   "outputs": [],
   "source": [
    "# load index.html and extract each polygon \n",
    "\n",
    "def extract_polygons_from_html(html_file):\n",
    "    with open(html_file, 'r') as f:\n",
    "        soup = BeautifulSoup(f, 'html.parser')\n",
    "        polygons = soup.find_all('polygon')\n",
    "        return polygons\n",
    "\n",
    "html_file = 'index.html'\n",
    "polygons = extract_polygons_from_html(html_file)"
   ]
  },
  {
   "cell_type": "code",
   "execution_count": null,
   "metadata": {},
   "outputs": [
    {
     "data": {
      "text/plain": [
       "'138.3,290.5 140.1,287.1 144.1,286.7 145,286.9 145,288.9 148.6,292.2 149.8,292.5 152.5,294.3 \\n\\t\\t\\t\\t\\t\\t\\t\\t155,294.4 156.1,295.1 157.4,293.9 160.6,294.2 162,296.2 161.5,297.2 161.7,298.6 160.3,298.4 159.6,298.7 158.3,298.8 \\n\\t\\t\\t\\t\\t\\t\\t\\t158.3,299.4 159.3,300.2 159.1,301 159.7,301.2 160,302.5 161.1,303.5 161.3,304.2 160.8,304.5 168,304.4 171.3,306.3 173,306.2 \\n\\t\\t\\t\\t\\t\\t\\t\\t174.8,307.8 174.8,308.9 176.1,309.2 177.6,311.2 175.4,313.5 173.5,314 170.5,312.6 169.2,312.7 166.9,314.3 166.9,315.3 \\n\\t\\t\\t\\t\\t\\t\\t\\t167.7,316.1 167.6,317.3 165.4,319.9 160.3,319.3 159.8,319.8 160.1,320.5 159.4,321.9 158.4,322.6 158.1,324.5 156.2,327.1 \\n\\t\\t\\t\\t\\t\\t\\t\\t156,328.6 155.2,329.7 155.3,334.7 153,327.4 151.9,326.1 152,325.2 151.1,324.2 150.6,322.5 149.2,322.6 148.5,322.2 147,323 \\n\\t\\t\\t\\t\\t\\t\\t\\t146.4,322.5 143.3,325.6 142.7,326.9 141.8,327.9 138.1,328.2 134.2,327 133.9,326.5 132.6,326.8 131.7,325.7 131.8,324.7 \\n\\t\\t\\t\\t\\t\\t\\t\\t132.2,324.1 131.1,322.5 130,322.9 129.5,321.4 130.4,319 129.9,313.8 130.5,312.2 130.5,310.4 129.8,309 128.3,309.2 \\n\\t\\t\\t\\t\\t\\t\\t\\t127.3,310.3 125.6,309.7 124.9,309 122.7,308.8 121.9,307.6 122.2,305.8 122.9,304.8 121.9,303.1 121.9,302.4 122.9,301.4 \\n\\t\\t\\t\\t\\t\\t\\t\\t126,300.5 127.4,300.7 128.6,302.9 129,302.9 130.5,301.4 131.3,301.3 132.6,300 133.7,299.9 134.7,299 136.2,299.1 136,297.6 \\n\\t\\t\\t\\t\\t\\t\\t\\t136.2,296.8 135.9,295.9 137,291.5 138.3,290.5 138.3,290.5 \\t\\t'"
      ]
     },
     "execution_count": 10,
     "metadata": {},
     "output_type": "execute_result"
    }
   ],
   "source": [
    "polygon = polygons[0]\n",
    "polygon\n",
    "\n",
    "# get points attribute from polygon\n",
    "points = polygon['points']\n",
    "points\n",
    "# get min and max x and y values\n",
    "\n"
   ]
  },
  {
   "cell_type": "code",
   "execution_count": null,
   "metadata": {},
   "outputs": [],
   "source": [
    "# generate svg file with extracted polygons\n",
    "\n",
    "def calculate_view_box(polygon):\n",
    "    points = polygon['points']\n",
    "    x_values = []\n",
    "    y_values = []\n",
    "    for point in points.split(' '):\n",
    "        x, y = point.split(',')\n",
    "        x_values.append(float(x))\n",
    "        y_values.append(float(y))\n",
    "\n",
    "    min_x = min(x_values)\n",
    "    max_x = max(x_values)\n",
    "    min_y = min(y_values)\n",
    "    max_y = max(y_values)\n",
    "\n",
    "    width = max_x - min_x\n",
    "    height = max_y - min_y\n",
    "\n",
    "    return min_x, min_y, width, height\n",
    "\n",
    "def generate_svg(polygon, output_file):\n",
    "    with open(output_file, 'w') as f:\n",
    "        f.write('<svg xmlns=\"http://www.w3.org/2000/svg\" viewBox=\"0 0 100 100\">\\n')\n",
    "        f.write(str(polygon))\n",
    "        f.write('</svg>')"
   ]
  }
 ],
 "metadata": {
  "kernelspec": {
   "display_name": "Python 3",
   "language": "python",
   "name": "python3"
  },
  "language_info": {
   "codemirror_mode": {
    "name": "ipython",
    "version": 3
   },
   "file_extension": ".py",
   "mimetype": "text/x-python",
   "name": "python",
   "nbconvert_exporter": "python",
   "pygments_lexer": "ipython3",
   "version": "3.12.1"
  }
 },
 "nbformat": 4,
 "nbformat_minor": 2
}
