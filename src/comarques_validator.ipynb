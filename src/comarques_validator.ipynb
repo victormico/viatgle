{
 "cells": [
  {
   "cell_type": "code",
   "execution_count": 1,
   "metadata": {},
   "outputs": [],
   "source": [
    "import json"
   ]
  },
  {
   "cell_type": "code",
   "execution_count": 3,
   "metadata": {},
   "outputs": [
    {
     "name": "stdout",
     "output_type": "stream",
     "text": [
      "All connections are valid!\n"
     ]
    }
   ],
   "source": [
    "def validate_connections(data):\n",
    "    \"\"\"\n",
    "    Validates that all the comarca connections in the input data are symmetric.\n",
    "    That is, if comarca A is connected to comarca B, then comarca B must be\n",
    "    connected to comarca A.\n",
    "    \"\"\"\n",
    "    errors = []\n",
    "\n",
    "    for comarca, neighbors in data.items():\n",
    "        for neighbor in neighbors:\n",
    "            if comarca not in data.get(neighbor, []):\n",
    "                errors.append(\n",
    "                    f\"Connection missing: '{neighbor}' should include '{comarca}'\"\n",
    "                )\n",
    "\n",
    "    return errors\n",
    "\n",
    "\n",
    "#read the data from the file\n",
    "with open(\"comarques_limitrofes.json\") as f:\n",
    "    comarques_data = json.load(f)\n",
    "\n",
    "# Validate the connections\n",
    "errors = validate_connections(comarques_data)\n",
    "\n",
    "if errors:\n",
    "    print(\"Errors found:\")\n",
    "    for error in errors:\n",
    "        print(error)\n",
    "else:\n",
    "    print(\"All connections are valid!\")\n"
   ]
  }
 ],
 "metadata": {
  "kernelspec": {
   "display_name": "Python 3",
   "language": "python",
   "name": "python3"
  },
  "language_info": {
   "codemirror_mode": {
    "name": "ipython",
    "version": 3
   },
   "file_extension": ".py",
   "mimetype": "text/x-python",
   "name": "python",
   "nbconvert_exporter": "python",
   "pygments_lexer": "ipython3",
   "version": "3.12.1"
  }
 },
 "nbformat": 4,
 "nbformat_minor": 2
}
